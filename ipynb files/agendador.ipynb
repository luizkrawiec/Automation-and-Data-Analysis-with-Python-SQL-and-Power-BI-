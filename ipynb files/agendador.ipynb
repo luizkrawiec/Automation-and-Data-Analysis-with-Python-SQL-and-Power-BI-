{
 "cells": [
  {
   "cell_type": "code",
   "execution_count": null,
   "metadata": {},
   "outputs": [],
   "source": [
    "# pip install schedule\n",
    "# pip install -- upgrade schedule"
   ]
  },
  {
   "cell_type": "code",
   "execution_count": null,
   "metadata": {},
   "outputs": [],
   "source": [
    "import schedule  \n",
    "import time  \n",
    "import pandas as pd\n",
    "import pyodbc \n",
    "\n",
    "def job():  \n",
    "    server = 'DESKTOP-KLPI1BO\\\\SQLEXPRESS' \n",
    "    database = 'car_shop' \n",
    "    conexaoDB = pyodbc.connect('DRIVER={ODBC Driver 17 for SQL Server};'\n",
    "                               f'SERVER={server};'\n",
    "                               f'DATABASE={database};'\n",
    "                               'Trusted_Connection=yes;')\n",
    "\n",
    "    cursor = conexaoDB.cursor()   # criando cursor de comando \n",
    "\n",
    "    dados = pd.read_excel(r\"C:\\Users\\Luiz Krawiec\\OneDrive\\Documentos\\portfolio\\automação, implantação e EDA\\excel\\tbCustomers.xlsx\")\n",
    "    str(dados.columns).replace(\"'\", \"\")\n",
    "\n",
    "    # limpa banco de dados antes da carga \n",
    "    cursor.execute('TRUNCATE TABLE [tbCustomers3]')  \n",
    "    conexaoDB.commit()\n",
    "\n",
    "    # faz carga no banco de dados\n",
    "    for index, linha in dados.iterrows():\n",
    "        # Truncate customer_id if it exceeds 50 characters\n",
    "        customer_id = str(linha.customer_id)[:50]\n",
    "        cursor.execute(\"INSERT INTO [tbCustomers3] (customer_id, cpf, first_name, last_name, state, city, birth_date, income, score, professional_status, email, mobile) VALUES (?, ?, ?, ?, ?, ?, ?, ?, ?, ?, ?, ?)\",\n",
    "                       (customer_id, str(linha.cpf), linha.first_name, linha.last_name, linha.state, linha.city, str(linha.birth_date), int(linha.income), int(linha.score), linha.professional_status, linha.email, str(linha.mobile)))\n",
    "        \n",
    "    conexaoDB.commit()   \n",
    "    cursor.close() \n",
    "    conexaoDB.close() \n",
    "    \n",
    "schedule.every().day.at(\"12:42\").do(job)   # escolher a frequencia \n",
    "while True: # loop contínuo\n",
    "    schedule.run_pending()  # Executa tarefas agendadas que estão prontas para serem executadas\n",
    "    time.sleep(1)  # Pausa por 1 segundo antes de verificar novamente as tarefas agendadas\n"
   ]
  }
 ],
 "metadata": {
  "language_info": {
   "name": "python"
  }
 },
 "nbformat": 4,
 "nbformat_minor": 2
}
