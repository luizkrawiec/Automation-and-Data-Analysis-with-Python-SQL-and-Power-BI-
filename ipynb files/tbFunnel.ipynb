{
 "cells": [
  {
   "cell_type": "markdown",
   "metadata": {},
   "source": []
  },
  {
   "cell_type": "code",
   "execution_count": 83,
   "metadata": {},
   "outputs": [],
   "source": [
    "# !pip install pyodbc#<-- iNSTALAR PYODBC\n",
    "\n",
    "import pandas as pd\n",
    "import pyodbc # <-- BOM PARA LEMBRAR PARA COLOCAR NO PORTFOLIO "
   ]
  },
  {
   "cell_type": "code",
   "execution_count": 84,
   "metadata": {},
   "outputs": [],
   "source": [
    "server = 'DESKTOP-KLPI1BO\\\\SQLEXPRESS' # Substitua pelo nome do servidor SQL Server ***ATENÇÃO NA BARRA DUPLA\n",
    "database = 'car_shop'  # Substitua pelo nome do banco de dados\n",
    "conexaoDB = pyodbc.connect('DRIVER={ODBC Driver 17 for SQL Server};' # PARA ACHAR ESSA LINHA PROCURAR EM FONTES DE DADOS ODBC E ABA DRIVERS\n",
    "                      f'SERVER={server};'\n",
    "                      f'DATABASE={database};'\n",
    "                      'Trusted_Connection=yes;')\n",
    "\n",
    "cursor = conexaoDB.cursor()   # criando cursor de comando "
   ]
  },
  {
   "cell_type": "code",
   "execution_count": 85,
   "metadata": {},
   "outputs": [
    {
     "data": {
      "text/html": [
       "<div>\n",
       "<style scoped>\n",
       "    .dataframe tbody tr th:only-of-type {\n",
       "        vertical-align: middle;\n",
       "    }\n",
       "\n",
       "    .dataframe tbody tr th {\n",
       "        vertical-align: top;\n",
       "    }\n",
       "\n",
       "    .dataframe thead th {\n",
       "        text-align: right;\n",
       "    }\n",
       "</style>\n",
       "<table border=\"1\" class=\"dataframe\">\n",
       "  <thead>\n",
       "    <tr style=\"text-align: right;\">\n",
       "      <th></th>\n",
       "      <th>visit_id</th>\n",
       "      <th>customer_id</th>\n",
       "      <th>store_id</th>\n",
       "      <th>product_id</th>\n",
       "      <th>visit_page_date</th>\n",
       "      <th>add_to_cart_date</th>\n",
       "      <th>start_checkout_date</th>\n",
       "      <th>finish_checkout_date</th>\n",
       "      <th>paid_date</th>\n",
       "      <th>discount</th>\n",
       "    </tr>\n",
       "  </thead>\n",
       "  <tbody>\n",
       "    <tr>\n",
       "      <th>0</th>\n",
       "      <td>38836BE8B968</td>\n",
       "      <td>73650706FFAE</td>\n",
       "      <td>BF580E604866</td>\n",
       "      <td>produto001</td>\n",
       "      <td>2021-02-19</td>\n",
       "      <td>2021-02-19</td>\n",
       "      <td>NaT</td>\n",
       "      <td>NaT</td>\n",
       "      <td>NaT</td>\n",
       "      <td>-0.34</td>\n",
       "    </tr>\n",
       "    <tr>\n",
       "      <th>1</th>\n",
       "      <td>7FB675C2F431</td>\n",
       "      <td>236A739A6063</td>\n",
       "      <td>F79B06D22BC3</td>\n",
       "      <td>produto002</td>\n",
       "      <td>2021-04-20</td>\n",
       "      <td>NaT</td>\n",
       "      <td>NaT</td>\n",
       "      <td>NaT</td>\n",
       "      <td>NaT</td>\n",
       "      <td>-0.38</td>\n",
       "    </tr>\n",
       "    <tr>\n",
       "      <th>2</th>\n",
       "      <td>B07A4A5759AC</td>\n",
       "      <td>CF2DFCBE74E3</td>\n",
       "      <td>B06DF477008E</td>\n",
       "      <td>produto003</td>\n",
       "      <td>2021-06-25</td>\n",
       "      <td>NaT</td>\n",
       "      <td>NaT</td>\n",
       "      <td>NaT</td>\n",
       "      <td>NaT</td>\n",
       "      <td>-0.14</td>\n",
       "    </tr>\n",
       "    <tr>\n",
       "      <th>3</th>\n",
       "      <td>713A295F9E4C</td>\n",
       "      <td>25504A496AEB</td>\n",
       "      <td>97D85A358174</td>\n",
       "      <td>produto004</td>\n",
       "      <td>2021-06-04</td>\n",
       "      <td>2021-06-04</td>\n",
       "      <td>NaT</td>\n",
       "      <td>NaT</td>\n",
       "      <td>NaT</td>\n",
       "      <td>-0.08</td>\n",
       "    </tr>\n",
       "    <tr>\n",
       "      <th>4</th>\n",
       "      <td>D6145FA8A291</td>\n",
       "      <td>05DE6BCDFEC7</td>\n",
       "      <td>BF580E604866</td>\n",
       "      <td>produto005</td>\n",
       "      <td>2021-08-26</td>\n",
       "      <td>NaT</td>\n",
       "      <td>NaT</td>\n",
       "      <td>NaT</td>\n",
       "      <td>NaT</td>\n",
       "      <td>-0.30</td>\n",
       "    </tr>\n",
       "  </tbody>\n",
       "</table>\n",
       "</div>"
      ],
      "text/plain": [
       "       visit_id   customer_id      store_id  product_id visit_page_date  \\\n",
       "0  38836BE8B968  73650706FFAE  BF580E604866  produto001      2021-02-19   \n",
       "1  7FB675C2F431  236A739A6063  F79B06D22BC3  produto002      2021-04-20   \n",
       "2  B07A4A5759AC  CF2DFCBE74E3  B06DF477008E  produto003      2021-06-25   \n",
       "3  713A295F9E4C  25504A496AEB  97D85A358174  produto004      2021-06-04   \n",
       "4  D6145FA8A291  05DE6BCDFEC7  BF580E604866  produto005      2021-08-26   \n",
       "\n",
       "  add_to_cart_date start_checkout_date finish_checkout_date paid_date  \\\n",
       "0       2021-02-19                 NaT                  NaT       NaT   \n",
       "1              NaT                 NaT                  NaT       NaT   \n",
       "2              NaT                 NaT                  NaT       NaT   \n",
       "3       2021-06-04                 NaT                  NaT       NaT   \n",
       "4              NaT                 NaT                  NaT       NaT   \n",
       "\n",
       "   discount  \n",
       "0     -0.34  \n",
       "1     -0.38  \n",
       "2     -0.14  \n",
       "3     -0.08  \n",
       "4     -0.30  "
      ]
     },
     "execution_count": 85,
     "metadata": {},
     "output_type": "execute_result"
    }
   ],
   "source": [
    "dados = pd.read_excel(r\"C:\\Users\\Luiz Krawiec\\OneDrive\\Documentos\\portfolio\\automação, implantação e EDA\\excel\\tbFunnel.xlsx\")\n",
    "#display(dados)\n",
    "dados.head(5)\n",
    "#display(dados)"
   ]
  },
  {
   "cell_type": "code",
   "execution_count": 86,
   "metadata": {},
   "outputs": [
    {
     "name": "stdout",
     "output_type": "stream",
     "text": [
      "<class 'pandas.core.frame.DataFrame'>\n",
      "RangeIndex: 30580 entries, 0 to 30579\n",
      "Data columns (total 10 columns):\n",
      " #   Column                Non-Null Count  Dtype         \n",
      "---  ------                --------------  -----         \n",
      " 0   visit_id              30580 non-null  object        \n",
      " 1   customer_id           30580 non-null  object        \n",
      " 2   store_id              30580 non-null  object        \n",
      " 3   product_id            30580 non-null  object        \n",
      " 4   visit_page_date       30580 non-null  datetime64[ns]\n",
      " 5   add_to_cart_date      20020 non-null  datetime64[ns]\n",
      " 6   start_checkout_date   4198 non-null   datetime64[ns]\n",
      " 7   finish_checkout_date  3807 non-null   datetime64[ns]\n",
      " 8   paid_date             3788 non-null   datetime64[ns]\n",
      " 9   discount              30580 non-null  float64       \n",
      "dtypes: datetime64[ns](5), float64(1), object(4)\n",
      "memory usage: 2.3+ MB\n"
     ]
    }
   ],
   "source": [
    "dados.info()"
   ]
  },
  {
   "cell_type": "code",
   "execution_count": 87,
   "metadata": {},
   "outputs": [
    {
     "data": {
      "text/plain": [
       "'Index([visit_id, customer_id, store_id, product_id, visit_page_date,\\n       add_to_cart_date, start_checkout_date, finish_checkout_date,\\n       paid_date, discount],\\n      dtype=object)'"
      ]
     },
     "execution_count": 87,
     "metadata": {},
     "output_type": "execute_result"
    }
   ],
   "source": [
    "str(dados.columns).replace(\"'\",\"\") "
   ]
  },
  {
   "cell_type": "code",
   "execution_count": 88,
   "metadata": {},
   "outputs": [],
   "source": [
    "cursor.execute('truncate table[tbFunnel6]')   #executa tarefa de  apagar dados\n",
    "cursor.commit()"
   ]
  },
  {
   "cell_type": "code",
   "execution_count": 89,
   "metadata": {},
   "outputs": [],
   "source": [
    "for index, linha in dados.iterrows():\n",
    "    # Converter as datas para o formato de data do SQL Server\n",
    "    visit_page_date = linha['visit_page_date'].strftime('%Y-%m-%d %H:%M:%S') if pd.notnull(linha['visit_page_date']) else None\n",
    "    add_to_cart_date = linha['add_to_cart_date'].strftime('%Y-%m-%d %H:%M:%S') if pd.notnull(linha['add_to_cart_date']) else None\n",
    "    start_checkout_date = linha['start_checkout_date'].strftime('%Y-%m-%d %H:%M:%S') if pd.notnull(linha['start_checkout_date']) else None\n",
    "    finish_checkout_date = linha['finish_checkout_date'].strftime('%Y-%m-%d %H:%M:%S') if pd.notnull(linha['finish_checkout_date']) else None\n",
    "    paid_date = linha['paid_date'].strftime('%Y-%m-%d %H:%M:%S') if pd.notnull(linha['paid_date']) else None\n",
    "    \n",
    "    # Inserir os valores na tabela\n",
    "    cursor.execute(\"INSERT INTO [tbFunnel6] (visit_id, customer_id, store_id, product_id, visit_page_date, add_to_cart_date, start_checkout_date, finish_checkout_date, paid_date, discount) VALUES (?, ?, ?, ?, ?, ?, ?, ?, ?, ?)\",\n",
    "                   (str(linha['visit_id']), str(linha['customer_id']), str(linha['store_id']), str(linha['product_id']), visit_page_date, add_to_cart_date, start_checkout_date, finish_checkout_date, paid_date, linha['discount']))\n",
    "\n",
    "# Comitar as mudanças\n",
    "conexaoDB.commit()\n",
    "\n",
    "# Fechar cursor e conexão\n",
    "cursor.close()\n",
    "conexaoDB.close()\n"
   ]
  },
  {
   "cell_type": "code",
   "execution_count": 90,
   "metadata": {},
   "outputs": [],
   "source": [
    "cursor.execute('delete  from [tbFunnel6]')   #executa tarefa de  apagar dados\n",
    "cursor.commit()"
   ]
  }
 ],
 "metadata": {
  "kernelspec": {
   "display_name": "Python 3",
   "language": "python",
   "name": "python3"
  },
  "language_info": {
   "codemirror_mode": {
    "name": "ipython",
    "version": 3
   },
   "file_extension": ".py",
   "mimetype": "text/x-python",
   "name": "python",
   "nbconvert_exporter": "python",
   "pygments_lexer": "ipython3",
   "version": "3.12.0"
  }
 },
 "nbformat": 4,
 "nbformat_minor": 2
}
