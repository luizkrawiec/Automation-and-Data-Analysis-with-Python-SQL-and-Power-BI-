{
 "cells": [
  {
   "cell_type": "markdown",
   "metadata": {},
   "source": []
  },
  {
   "cell_type": "code",
   "execution_count": 67,
   "metadata": {},
   "outputs": [],
   "source": [
    "# !pip install pyodbc#<-- iNSTALAR PYODBC\n",
    "\n",
    "import pandas as pd\n",
    "import pyodbc # <-- BOM PARA LEMBRAR PARA COLOCAR NO PORTFOLIO "
   ]
  },
  {
   "cell_type": "code",
   "execution_count": 68,
   "metadata": {},
   "outputs": [],
   "source": [
    "server = 'DESKTOP-KLPI1BO\\\\SQLEXPRESS' # Substitua pelo nome do servidor SQL Server ***ATENÇÃO NA BARRA DUPLA\n",
    "database = 'car_shop'  # Substitua pelo nome do banco de dados\n",
    "conexaoDB = pyodbc.connect('DRIVER={ODBC Driver 17 for SQL Server};' # PARA ACHAR ESSA LINHA PROCURAR EM FONTES DE DADOS ODBC E ABA DRIVERS\n",
    "                      f'SERVER={server};'\n",
    "                      f'DATABASE={database};'\n",
    "                      'Trusted_Connection=yes;')\n",
    "\n",
    "cursor = conexaoDB.cursor()   # criando cursor de comando "
   ]
  },
  {
   "cell_type": "code",
   "execution_count": 69,
   "metadata": {},
   "outputs": [
    {
     "data": {
      "text/html": [
       "<div>\n",
       "<style scoped>\n",
       "    .dataframe tbody tr th:only-of-type {\n",
       "        vertical-align: middle;\n",
       "    }\n",
       "\n",
       "    .dataframe tbody tr th {\n",
       "        vertical-align: top;\n",
       "    }\n",
       "\n",
       "    .dataframe thead th {\n",
       "        text-align: right;\n",
       "    }\n",
       "</style>\n",
       "<table border=\"1\" class=\"dataframe\">\n",
       "  <thead>\n",
       "    <tr style=\"text-align: right;\">\n",
       "      <th></th>\n",
       "      <th>city</th>\n",
       "      <th>estado</th>\n",
       "      <th>region</th>\n",
       "      <th>size</th>\n",
       "      <th>code</th>\n",
       "      <th>populacao</th>\n",
       "    </tr>\n",
       "  </thead>\n",
       "  <tbody>\n",
       "    <tr>\n",
       "      <th>0</th>\n",
       "      <td>Alta Floresta Doeste</td>\n",
       "      <td>RO</td>\n",
       "      <td>Região Norte</td>\n",
       "      <td>Pequeno II</td>\n",
       "      <td>69</td>\n",
       "      <td>24392</td>\n",
       "    </tr>\n",
       "    <tr>\n",
       "      <th>1</th>\n",
       "      <td>Ariquemes</td>\n",
       "      <td>RO</td>\n",
       "      <td>Região Norte</td>\n",
       "      <td>Médio</td>\n",
       "      <td>69</td>\n",
       "      <td>90353</td>\n",
       "    </tr>\n",
       "    <tr>\n",
       "      <th>2</th>\n",
       "      <td>Cabixi</td>\n",
       "      <td>RO</td>\n",
       "      <td>Região Norte</td>\n",
       "      <td>Pequeno I</td>\n",
       "      <td>69</td>\n",
       "      <td>6313</td>\n",
       "    </tr>\n",
       "    <tr>\n",
       "      <th>3</th>\n",
       "      <td>Cacoal</td>\n",
       "      <td>RO</td>\n",
       "      <td>Região Norte</td>\n",
       "      <td>Médio</td>\n",
       "      <td>69</td>\n",
       "      <td>78574</td>\n",
       "    </tr>\n",
       "    <tr>\n",
       "      <th>4</th>\n",
       "      <td>Cerejeiras</td>\n",
       "      <td>RO</td>\n",
       "      <td>Região Norte</td>\n",
       "      <td>Pequeno I</td>\n",
       "      <td>69</td>\n",
       "      <td>17029</td>\n",
       "    </tr>\n",
       "  </tbody>\n",
       "</table>\n",
       "</div>"
      ],
      "text/plain": [
       "                   city estado        region        size  code  populacao\n",
       "0  Alta Floresta Doeste     RO  Região Norte  Pequeno II    69      24392\n",
       "1             Ariquemes     RO  Região Norte       Médio    69      90353\n",
       "2                Cabixi     RO  Região Norte   Pequeno I    69       6313\n",
       "3                Cacoal     RO  Região Norte       Médio    69      78574\n",
       "4            Cerejeiras     RO  Região Norte   Pequeno I    69      17029"
      ]
     },
     "execution_count": 69,
     "metadata": {},
     "output_type": "execute_result"
    }
   ],
   "source": [
    "dados = pd.read_excel(r\"C:\\Users\\Luiz Krawiec\\OneDrive\\Documentos\\portfolio\\automação, implantação e EDA\\excel\\tbTemp_Regions.xlsx\")\n",
    "#display(dados)\n",
    "dados.head(5)\n",
    "#display(dados)"
   ]
  },
  {
   "cell_type": "code",
   "execution_count": 70,
   "metadata": {},
   "outputs": [],
   "source": [
    "dados_sem_nulos = dados.dropna()"
   ]
  },
  {
   "cell_type": "code",
   "execution_count": 71,
   "metadata": {},
   "outputs": [],
   "source": [
    "dados_sem_nulos['populacao'] = dados_sem_nulos['populacao'].astype(float)"
   ]
  },
  {
   "cell_type": "code",
   "execution_count": 72,
   "metadata": {},
   "outputs": [
    {
     "name": "stdout",
     "output_type": "stream",
     "text": [
      "<class 'pandas.core.frame.DataFrame'>\n",
      "RangeIndex: 5570 entries, 0 to 5569\n",
      "Data columns (total 6 columns):\n",
      " #   Column     Non-Null Count  Dtype  \n",
      "---  ------     --------------  -----  \n",
      " 0   city       5570 non-null   object \n",
      " 1   estado     5570 non-null   object \n",
      " 2   region     5570 non-null   object \n",
      " 3   size       5570 non-null   object \n",
      " 4   code       5570 non-null   int64  \n",
      " 5   populacao  5570 non-null   float64\n",
      "dtypes: float64(1), int64(1), object(4)\n",
      "memory usage: 261.2+ KB\n"
     ]
    }
   ],
   "source": [
    "dados_sem_nulos.info()"
   ]
  },
  {
   "cell_type": "code",
   "execution_count": 73,
   "metadata": {},
   "outputs": [
    {
     "data": {
      "text/plain": [
       "'Index([city, estado, region, size, code, populacao], dtype=object)'"
      ]
     },
     "execution_count": 73,
     "metadata": {},
     "output_type": "execute_result"
    }
   ],
   "source": [
    "str(dados_sem_nulos.columns).replace(\"'\",\"\") "
   ]
  },
  {
   "cell_type": "code",
   "execution_count": 74,
   "metadata": {},
   "outputs": [],
   "source": [
    "cursor.execute('truncate table[tbTemp_Regions7]')   #executa tarefa de  apagar dados\n",
    "cursor.commit()"
   ]
  },
  {
   "cell_type": "code",
   "execution_count": 75,
   "metadata": {},
   "outputs": [],
   "source": [
    "for index, linha in dados.iterrows():\n",
    "    cursor.execute(\"Insert into [tbTemp_Regions7](city, estado, region, size, code, populacao)values(?,?,?,?,?,?)\",linha.city,linha.estado,linha.region,linha.size,linha.code,linha.populacao) \n",
    "     # inserir colunas e quantas colunas tiver passar quantidade de ??\n",
    "cursor.commit()   # validar dados no SQL Server\n",
    "cursor.close()    #Fechar Cursor\n",
    "conexaoDB.close() #Fechar Conexao"
   ]
  },
  {
   "cell_type": "code",
   "execution_count": 76,
   "metadata": {},
   "outputs": [],
   "source": [
    "cursor.execute('delete  from [tbTemp_Regions7]')   #executa tarefa de  apagar dados\n",
    "cursor.commit()"
   ]
  }
 ],
 "metadata": {
  "kernelspec": {
   "display_name": "Python 3",
   "language": "python",
   "name": "python3"
  },
  "language_info": {
   "codemirror_mode": {
    "name": "ipython",
    "version": 3
   },
   "file_extension": ".py",
   "mimetype": "text/x-python",
   "name": "python",
   "nbconvert_exporter": "python",
   "pygments_lexer": "ipython3",
   "version": "3.12.0"
  }
 },
 "nbformat": 4,
 "nbformat_minor": 2
}
