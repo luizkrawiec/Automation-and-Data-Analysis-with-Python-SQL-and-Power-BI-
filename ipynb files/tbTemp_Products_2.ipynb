{
 "cells": [
  {
   "cell_type": "markdown",
   "metadata": {},
   "source": []
  },
  {
   "cell_type": "code",
   "execution_count": 7,
   "metadata": {},
   "outputs": [],
   "source": [
    "# !pip install pyodbc#<-- iNSTALAR PYODBC\n",
    "\n",
    "import pandas as pd\n",
    "import pyodbc # <-- BOM PARA LEMBRAR PARA COLOCAR NO PORTFOLIO "
   ]
  },
  {
   "cell_type": "code",
   "execution_count": 8,
   "metadata": {},
   "outputs": [],
   "source": [
    "server = 'DESKTOP-KLPI1BO\\\\SQLEXPRESS' # Substitua pelo nome do servidor SQL Server ***ATENÇÃO NA BARRA DUPLA\n",
    "database = 'car_shop'  # Substitua pelo nome do banco de dados\n",
    "conexaoDB = pyodbc.connect('DRIVER={ODBC Driver 17 for SQL Server};' # PARA ACHAR ESSA LINHA PROCURAR EM FONTES DE DADOS ODBC E ABA DRIVERS\n",
    "                      f'SERVER={server};'\n",
    "                      f'DATABASE={database};'\n",
    "                      'Trusted_Connection=yes;')\n",
    "\n",
    "cursor = conexaoDB.cursor()   # criando cursor de comando "
   ]
  },
  {
   "cell_type": "code",
   "execution_count": 9,
   "metadata": {},
   "outputs": [
    {
     "data": {
      "text/html": [
       "<div>\n",
       "<style scoped>\n",
       "    .dataframe tbody tr th:only-of-type {\n",
       "        vertical-align: middle;\n",
       "    }\n",
       "\n",
       "    .dataframe tbody tr th {\n",
       "        vertical-align: top;\n",
       "    }\n",
       "\n",
       "    .dataframe thead th {\n",
       "        text-align: right;\n",
       "    }\n",
       "</style>\n",
       "<table border=\"1\" class=\"dataframe\">\n",
       "  <thead>\n",
       "    <tr style=\"text-align: right;\">\n",
       "      <th></th>\n",
       "      <th>product_id</th>\n",
       "      <th>brand</th>\n",
       "      <th>model</th>\n",
       "      <th>model_year</th>\n",
       "      <th>price</th>\n",
       "    </tr>\n",
       "  </thead>\n",
       "  <tbody>\n",
       "    <tr>\n",
       "      <th>0</th>\n",
       "      <td>produto334</td>\n",
       "      <td>RIVIAN</td>\n",
       "      <td>X1</td>\n",
       "      <td>2021</td>\n",
       "      <td>300000</td>\n",
       "    </tr>\n",
       "    <tr>\n",
       "      <th>1</th>\n",
       "      <td>produto335</td>\n",
       "      <td>RIVIAN</td>\n",
       "      <td>X2</td>\n",
       "      <td>2021</td>\n",
       "      <td>400000</td>\n",
       "    </tr>\n",
       "    <tr>\n",
       "      <th>2</th>\n",
       "      <td>produto336</td>\n",
       "      <td>RIVIAN</td>\n",
       "      <td>X3</td>\n",
       "      <td>2021</td>\n",
       "      <td>500000</td>\n",
       "    </tr>\n",
       "  </tbody>\n",
       "</table>\n",
       "</div>"
      ],
      "text/plain": [
       "   product_id   brand model  model_year   price\n",
       "0  produto334  RIVIAN    X1        2021  300000\n",
       "1  produto335  RIVIAN    X2        2021  400000\n",
       "2  produto336  RIVIAN    X3        2021  500000"
      ]
     },
     "execution_count": 9,
     "metadata": {},
     "output_type": "execute_result"
    }
   ],
   "source": [
    "dados = pd.read_excel(r\"C:\\Users\\Luiz Krawiec\\OneDrive\\Documentos\\portfolio\\automação, implantação e EDA\\excel\\tbTemp_Products_2.xlsx\")\n",
    "#display(dados)\n",
    "dados.head(5)\n",
    "#display(dados)"
   ]
  },
  {
   "cell_type": "code",
   "execution_count": 10,
   "metadata": {},
   "outputs": [
    {
     "name": "stdout",
     "output_type": "stream",
     "text": [
      "<class 'pandas.core.frame.DataFrame'>\n",
      "RangeIndex: 3 entries, 0 to 2\n",
      "Data columns (total 5 columns):\n",
      " #   Column      Non-Null Count  Dtype \n",
      "---  ------      --------------  ----- \n",
      " 0   product_id  3 non-null      object\n",
      " 1   brand       3 non-null      object\n",
      " 2   model       3 non-null      object\n",
      " 3   model_year  3 non-null      int64 \n",
      " 4   price       3 non-null      int64 \n",
      "dtypes: int64(2), object(3)\n",
      "memory usage: 252.0+ bytes\n"
     ]
    }
   ],
   "source": [
    "dados.info()"
   ]
  },
  {
   "cell_type": "code",
   "execution_count": 11,
   "metadata": {},
   "outputs": [
    {
     "data": {
      "text/plain": [
       "'Index([product_id, brand, model, model_year, price], dtype=object)'"
      ]
     },
     "execution_count": 11,
     "metadata": {},
     "output_type": "execute_result"
    }
   ],
   "source": [
    "str(dados.columns).replace(\"'\",\"\") "
   ]
  },
  {
   "cell_type": "code",
   "execution_count": 12,
   "metadata": {},
   "outputs": [],
   "source": [
    "cursor.execute('truncate table[tbTemp_Products_2]')   #executa tarefa de  apagar dados\n",
    "cursor.commit()"
   ]
  },
  {
   "cell_type": "code",
   "execution_count": 13,
   "metadata": {},
   "outputs": [],
   "source": [
    "for index, linha in dados.iterrows():\n",
    "    cursor.execute(\"Insert into [tbTemp_Products_2](product_id, brand, model, model_year, price)values(?,?,?,?,?)\",linha.product_id,linha.brand,linha.model,linha.model_year,linha.price) \n",
    "     # inserir colunas e quantas colunas tiver passar quantidade de ??\n",
    "cursor.commit()   # validar dados no SQL Server\n",
    "cursor.close()    #Fechar Cursor\n",
    "conexaoDB.close() #Fechar Conexao"
   ]
  },
  {
   "cell_type": "code",
   "execution_count": 14,
   "metadata": {},
   "outputs": [],
   "source": [
    "cursor.execute('delete  from [tbTemp_Products_2]')   #executa tarefa de  apagar dados\n",
    "cursor.commit()"
   ]
  }
 ],
 "metadata": {
  "kernelspec": {
   "display_name": "Python 3",
   "language": "python",
   "name": "python3"
  },
  "language_info": {
   "codemirror_mode": {
    "name": "ipython",
    "version": 3
   },
   "file_extension": ".py",
   "mimetype": "text/x-python",
   "name": "python",
   "nbconvert_exporter": "python",
   "pygments_lexer": "ipython3",
   "version": "3.12.0"
  }
 },
 "nbformat": 4,
 "nbformat_minor": 2
}
