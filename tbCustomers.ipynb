{
 "cells": [
  {
   "cell_type": "markdown",
   "metadata": {},
   "source": []
  },
  {
   "cell_type": "code",
   "execution_count": 1,
   "metadata": {},
   "outputs": [
    {
     "name": "stdout",
     "output_type": "stream",
     "text": [
      "Requirement already satisfied: pyodbc in c:\\users\\luiz krawiec\\appdata\\local\\programs\\python\\python312\\lib\\site-packages (5.1.0)\n"
     ]
    }
   ],
   "source": [
    "!pip install pyodbc"
   ]
  },
  {
   "cell_type": "code",
   "execution_count": 27,
   "metadata": {},
   "outputs": [],
   "source": [
    "# !pip install pyodbc#<-- iNSTALAR PYODBC\n",
    "\n",
    "import pandas as pd\n",
    "import pyodbc # <-- BOM PARA LEMBRAR PARA COLOCAR NO PORTFOLIO "
   ]
  },
  {
   "cell_type": "code",
   "execution_count": 28,
   "metadata": {},
   "outputs": [],
   "source": [
    "server = 'DESKTOP-KLPI1BO\\\\SQLEXPRESS' # Substitua pelo nome do servidor SQL Server ***ATENÇÃO NA BARRA DUPLA\n",
    "database = 'car_shop'  # Substitua pelo nome do banco de dados\n",
    "conexaoDB = pyodbc.connect('DRIVER={ODBC Driver 17 for SQL Server};' # PARA ACHAR ESSA LINHA PROCURAR EM FONTES DE DADOS ODBC E ABA DRIVERS\n",
    "                      f'SERVER={server};'\n",
    "                      f'DATABASE={database};'\n",
    "                      'Trusted_Connection=yes;')\n",
    "\n",
    "cursor = conexaoDB.cursor()   # criando cursor de comando "
   ]
  },
  {
   "cell_type": "code",
   "execution_count": 29,
   "metadata": {},
   "outputs": [
    {
     "data": {
      "text/html": [
       "<div>\n",
       "<style scoped>\n",
       "    .dataframe tbody tr th:only-of-type {\n",
       "        vertical-align: middle;\n",
       "    }\n",
       "\n",
       "    .dataframe tbody tr th {\n",
       "        vertical-align: top;\n",
       "    }\n",
       "\n",
       "    .dataframe thead th {\n",
       "        text-align: right;\n",
       "    }\n",
       "</style>\n",
       "<table border=\"1\" class=\"dataframe\">\n",
       "  <thead>\n",
       "    <tr style=\"text-align: right;\">\n",
       "      <th></th>\n",
       "      <th>customer_id</th>\n",
       "      <th>cpf</th>\n",
       "      <th>first_name</th>\n",
       "      <th>last_name</th>\n",
       "      <th>state</th>\n",
       "      <th>city</th>\n",
       "      <th>birth_date</th>\n",
       "      <th>income</th>\n",
       "      <th>score</th>\n",
       "      <th>professional_status</th>\n",
       "      <th>email</th>\n",
       "      <th>mobile</th>\n",
       "    </tr>\n",
       "  </thead>\n",
       "  <tbody>\n",
       "    <tr>\n",
       "      <th>0</th>\n",
       "      <td>73650706FFAE</td>\n",
       "      <td>84932586604</td>\n",
       "      <td>IVONELIA</td>\n",
       "      <td>ARGULINO</td>\n",
       "      <td>SP</td>\n",
       "      <td>SÃO PAULO</td>\n",
       "      <td>1973-01-24</td>\n",
       "      <td>7000.0</td>\n",
       "      <td>491</td>\n",
       "      <td>clt</td>\n",
       "      <td>ivonelia.argulino265830@gmail.com</td>\n",
       "      <td>69262265830</td>\n",
       "    </tr>\n",
       "    <tr>\n",
       "      <th>1</th>\n",
       "      <td>236A739A6063</td>\n",
       "      <td>5912702104</td>\n",
       "      <td>ESTEVANIA</td>\n",
       "      <td>MARTHUS</td>\n",
       "      <td>SP</td>\n",
       "      <td>SÃO PAULO</td>\n",
       "      <td>1969-06-30</td>\n",
       "      <td>5800.0</td>\n",
       "      <td>376</td>\n",
       "      <td>clt</td>\n",
       "      <td>estevania.marthus204682@gmail.com</td>\n",
       "      <td>40632204682</td>\n",
       "    </tr>\n",
       "    <tr>\n",
       "      <th>2</th>\n",
       "      <td>CF2DFCBE74E3</td>\n",
       "      <td>85148454740</td>\n",
       "      <td>CLEUDINE</td>\n",
       "      <td>DUARTE</td>\n",
       "      <td>MG</td>\n",
       "      <td>BELO HORIZONTE</td>\n",
       "      <td>1945-12-25</td>\n",
       "      <td>3190.0</td>\n",
       "      <td>279</td>\n",
       "      <td>clt</td>\n",
       "      <td>cleudine.duarte661670@gmail.com</td>\n",
       "      <td>81639661670</td>\n",
       "    </tr>\n",
       "    <tr>\n",
       "      <th>3</th>\n",
       "      <td>25504A496AEB</td>\n",
       "      <td>12430594512</td>\n",
       "      <td>ADEIZE</td>\n",
       "      <td>LUZILDO</td>\n",
       "      <td>SC</td>\n",
       "      <td>NAVEGANTES</td>\n",
       "      <td>1948-03-25</td>\n",
       "      <td>11000.0</td>\n",
       "      <td>309</td>\n",
       "      <td>civil_servant</td>\n",
       "      <td>adeize.luzildo797118@gmail.com</td>\n",
       "      <td>21943797118</td>\n",
       "    </tr>\n",
       "    <tr>\n",
       "      <th>4</th>\n",
       "      <td>05DE6BCDFEC7</td>\n",
       "      <td>1571615400</td>\n",
       "      <td>SHEYLLA</td>\n",
       "      <td>JESKA</td>\n",
       "      <td>SP</td>\n",
       "      <td>CARAPICUÍBA</td>\n",
       "      <td>1963-10-31</td>\n",
       "      <td>6000.0</td>\n",
       "      <td>305</td>\n",
       "      <td>clt</td>\n",
       "      <td>sheylla.jeska608366@gmail.com</td>\n",
       "      <td>65148608366</td>\n",
       "    </tr>\n",
       "  </tbody>\n",
       "</table>\n",
       "</div>"
      ],
      "text/plain": [
       "    customer_id          cpf first_name last_name state            city  \\\n",
       "0  73650706FFAE  84932586604   IVONELIA  ARGULINO    SP       SÃO PAULO   \n",
       "1  236A739A6063   5912702104  ESTEVANIA   MARTHUS    SP       SÃO PAULO   \n",
       "2  CF2DFCBE74E3  85148454740   CLEUDINE    DUARTE    MG  BELO HORIZONTE   \n",
       "3  25504A496AEB  12430594512     ADEIZE   LUZILDO    SC      NAVEGANTES   \n",
       "4  05DE6BCDFEC7   1571615400    SHEYLLA     JESKA    SP     CARAPICUÍBA   \n",
       "\n",
       "  birth_date   income  score professional_status  \\\n",
       "0 1973-01-24   7000.0    491                 clt   \n",
       "1 1969-06-30   5800.0    376                 clt   \n",
       "2 1945-12-25   3190.0    279                 clt   \n",
       "3 1948-03-25  11000.0    309       civil_servant   \n",
       "4 1963-10-31   6000.0    305                 clt   \n",
       "\n",
       "                               email       mobile  \n",
       "0  ivonelia.argulino265830@gmail.com  69262265830  \n",
       "1  estevania.marthus204682@gmail.com  40632204682  \n",
       "2    cleudine.duarte661670@gmail.com  81639661670  \n",
       "3     adeize.luzildo797118@gmail.com  21943797118  \n",
       "4      sheylla.jeska608366@gmail.com  65148608366  "
      ]
     },
     "execution_count": 29,
     "metadata": {},
     "output_type": "execute_result"
    }
   ],
   "source": [
    "dados = pd.read_excel(r\"C:\\Users\\Luiz Krawiec\\OneDrive\\Documentos\\portfolio\\automação, implantação e EDA\\excel\\tbCustomers.xlsx\")\n",
    "#display(dados)\n",
    "dados.head(5)\n",
    "#display(dados)"
   ]
  },
  {
   "cell_type": "code",
   "execution_count": 31,
   "metadata": {},
   "outputs": [
    {
     "name": "stdout",
     "output_type": "stream",
     "text": [
      "<class 'pandas.core.frame.DataFrame'>\n",
      "RangeIndex: 25109 entries, 0 to 25108\n",
      "Data columns (total 12 columns):\n",
      " #   Column               Non-Null Count  Dtype         \n",
      "---  ------               --------------  -----         \n",
      " 0   customer_id          25109 non-null  object        \n",
      " 1   cpf                  25109 non-null  int64         \n",
      " 2   first_name           25109 non-null  object        \n",
      " 3   last_name            25109 non-null  object        \n",
      " 4   state                25109 non-null  object        \n",
      " 5   city                 25109 non-null  object        \n",
      " 6   birth_date           25109 non-null  datetime64[ns]\n",
      " 7   income               25109 non-null  float64       \n",
      " 8   score                25109 non-null  int64         \n",
      " 9   professional_status  25109 non-null  object        \n",
      " 10  email                25109 non-null  object        \n",
      " 11  mobile               25109 non-null  int64         \n",
      "dtypes: datetime64[ns](1), float64(1), int64(3), object(7)\n",
      "memory usage: 2.3+ MB\n"
     ]
    }
   ],
   "source": [
    "dados.info()"
   ]
  },
  {
   "cell_type": "code",
   "execution_count": 32,
   "metadata": {},
   "outputs": [
    {
     "data": {
      "text/plain": [
       "'Index([customer_id, cpf, first_name, last_name, state, city,\\n       birth_date, income, score, professional_status, email,\\n       mobile],\\n      dtype=object)'"
      ]
     },
     "execution_count": 32,
     "metadata": {},
     "output_type": "execute_result"
    }
   ],
   "source": [
    "str(dados.columns).replace(\"'\",\"\") "
   ]
  },
  {
   "cell_type": "code",
   "execution_count": 34,
   "metadata": {},
   "outputs": [],
   "source": [
    "cursor.execute('truncate table[tbCustomers3]')   #executa tarefa de  apagar dados\n",
    "cursor.commit()"
   ]
  },
  {
   "cell_type": "code",
   "execution_count": 37,
   "metadata": {},
   "outputs": [],
   "source": [
    "for index, linha in dados.iterrows():\n",
    "    # Truncate customer_id if it exceeds 50 characters\n",
    "    customer_id = str(linha.customer_id)[:50]\n",
    "    cursor.execute(\"INSERT INTO [tbCustomers3] (customer_id, cpf, first_name, last_name, state, city, birth_date, income, score, professional_status, email, mobile) VALUES (?, ?, ?, ?, ?, ?, ?, ?, ?, ?, ?, ?)\",\n",
    "                   customer_id, str(linha.cpf), linha.first_name, linha.last_name, linha.state, linha.city, str(linha.birth_date), int(linha.income), int(linha.score), linha.professional_status, linha.email, str(linha.mobile))\n",
    "cursor.commit()\n"
   ]
  },
  {
   "cell_type": "code",
   "execution_count": null,
   "metadata": {},
   "outputs": [],
   "source": [
    "cursor.execute('delete  from [tbCustomers3]')   #executa tarefa de  apagar dados\n",
    "cursor.commit()"
   ]
  }
 ],
 "metadata": {
  "kernelspec": {
   "display_name": "Python 3",
   "language": "python",
   "name": "python3"
  },
  "language_info": {
   "codemirror_mode": {
    "name": "ipython",
    "version": 3
   },
   "file_extension": ".py",
   "mimetype": "text/x-python",
   "name": "python",
   "nbconvert_exporter": "python",
   "pygments_lexer": "ipython3",
   "version": "3.12.0"
  }
 },
 "nbformat": 4,
 "nbformat_minor": 2
}
