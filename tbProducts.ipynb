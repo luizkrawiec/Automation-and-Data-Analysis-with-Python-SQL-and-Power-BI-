{
 "cells": [
  {
   "cell_type": "markdown",
   "metadata": {},
   "source": []
  },
  {
   "cell_type": "code",
   "execution_count": 7,
   "metadata": {},
   "outputs": [],
   "source": [
    "# !pip install pyodbc#<-- iNSTALAR PYODBC\n",
    "\n",
    "import pandas as pd\n",
    "import pyodbc # <-- BOM PARA LEMBRAR PARA COLOCAR NO PORTFOLIO "
   ]
  },
  {
   "cell_type": "code",
   "execution_count": 8,
   "metadata": {},
   "outputs": [],
   "source": [
    "server = 'DESKTOP-KLPI1BO\\\\SQLEXPRESS' # Substitua pelo nome do servidor SQL Server ***ATENÇÃO NA BARRA DUPLA\n",
    "database = 'car_shop'  # Substitua pelo nome do banco de dados\n",
    "conexaoDB = pyodbc.connect('DRIVER={ODBC Driver 17 for SQL Server};' # PARA ACHAR ESSA LINHA PROCURAR EM FONTES DE DADOS ODBC E ABA DRIVERS\n",
    "                      f'SERVER={server};'\n",
    "                      f'DATABASE={database};'\n",
    "                      'Trusted_Connection=yes;')\n",
    "\n",
    "cursor = conexaoDB.cursor()   # criando cursor de comando "
   ]
  },
  {
   "cell_type": "code",
   "execution_count": 9,
   "metadata": {},
   "outputs": [
    {
     "data": {
      "text/html": [
       "<div>\n",
       "<style scoped>\n",
       "    .dataframe tbody tr th:only-of-type {\n",
       "        vertical-align: middle;\n",
       "    }\n",
       "\n",
       "    .dataframe tbody tr th {\n",
       "        vertical-align: top;\n",
       "    }\n",
       "\n",
       "    .dataframe thead th {\n",
       "        text-align: right;\n",
       "    }\n",
       "</style>\n",
       "<table border=\"1\" class=\"dataframe\">\n",
       "  <thead>\n",
       "    <tr style=\"text-align: right;\">\n",
       "      <th></th>\n",
       "      <th>product_id</th>\n",
       "      <th>brand</th>\n",
       "      <th>model</th>\n",
       "      <th>model_year</th>\n",
       "      <th>price</th>\n",
       "    </tr>\n",
       "  </thead>\n",
       "  <tbody>\n",
       "    <tr>\n",
       "      <th>0</th>\n",
       "      <td>produto001</td>\n",
       "      <td>RENAULT</td>\n",
       "      <td>LOGAN</td>\n",
       "      <td>2014</td>\n",
       "      <td>67500</td>\n",
       "    </tr>\n",
       "    <tr>\n",
       "      <th>1</th>\n",
       "      <td>produto002</td>\n",
       "      <td>VOLKSWAGEN</td>\n",
       "      <td>GOL</td>\n",
       "      <td>2012</td>\n",
       "      <td>51000</td>\n",
       "    </tr>\n",
       "    <tr>\n",
       "      <th>2</th>\n",
       "      <td>produto003</td>\n",
       "      <td>FIAT</td>\n",
       "      <td>PALIO</td>\n",
       "      <td>2016</td>\n",
       "      <td>61500</td>\n",
       "    </tr>\n",
       "    <tr>\n",
       "      <th>3</th>\n",
       "      <td>produto004</td>\n",
       "      <td>NISSAN</td>\n",
       "      <td>SENTRA</td>\n",
       "      <td>2012</td>\n",
       "      <td>53850</td>\n",
       "    </tr>\n",
       "    <tr>\n",
       "      <th>4</th>\n",
       "      <td>produto005</td>\n",
       "      <td>FIAT</td>\n",
       "      <td>UNO</td>\n",
       "      <td>2015</td>\n",
       "      <td>52500</td>\n",
       "    </tr>\n",
       "  </tbody>\n",
       "</table>\n",
       "</div>"
      ],
      "text/plain": [
       "   product_id       brand   model  model_year  price\n",
       "0  produto001     RENAULT   LOGAN        2014  67500\n",
       "1  produto002  VOLKSWAGEN     GOL        2012  51000\n",
       "2  produto003        FIAT   PALIO        2016  61500\n",
       "3  produto004      NISSAN  SENTRA        2012  53850\n",
       "4  produto005        FIAT     UNO        2015  52500"
      ]
     },
     "execution_count": 9,
     "metadata": {},
     "output_type": "execute_result"
    }
   ],
   "source": [
    "dados = pd.read_excel(r\"C:\\Users\\Luiz Krawiec\\OneDrive\\Documentos\\portfolio\\automação, implantação e EDA\\excel\\tbProducts.xlsx\")\n",
    "#display(dados)\n",
    "dados.head(5)\n",
    "#display(dados)"
   ]
  },
  {
   "cell_type": "code",
   "execution_count": 10,
   "metadata": {},
   "outputs": [
    {
     "name": "stdout",
     "output_type": "stream",
     "text": [
      "<class 'pandas.core.frame.DataFrame'>\n",
      "RangeIndex: 333 entries, 0 to 332\n",
      "Data columns (total 5 columns):\n",
      " #   Column      Non-Null Count  Dtype \n",
      "---  ------      --------------  ----- \n",
      " 0   product_id  333 non-null    object\n",
      " 1   brand       333 non-null    object\n",
      " 2   model       333 non-null    object\n",
      " 3   model_year  333 non-null    int64 \n",
      " 4   price       333 non-null    int64 \n",
      "dtypes: int64(2), object(3)\n",
      "memory usage: 13.1+ KB\n"
     ]
    }
   ],
   "source": [
    "dados.info()"
   ]
  },
  {
   "cell_type": "code",
   "execution_count": 11,
   "metadata": {},
   "outputs": [
    {
     "data": {
      "text/plain": [
       "'Index([product_id, brand, model, model_year, price], dtype=object)'"
      ]
     },
     "execution_count": 11,
     "metadata": {},
     "output_type": "execute_result"
    }
   ],
   "source": [
    "str(dados.columns).replace(\"'\",\"\") "
   ]
  },
  {
   "cell_type": "code",
   "execution_count": 12,
   "metadata": {},
   "outputs": [],
   "source": [
    "cursor.execute('truncate table[tbProducts]')   #executa tarefa de  apagar dados\n",
    "cursor.commit()"
   ]
  },
  {
   "cell_type": "code",
   "execution_count": 14,
   "metadata": {},
   "outputs": [],
   "source": [
    "for index, linha in dados.iterrows():\n",
    "    cursor.execute(\"Insert into [tbProducts](product_id, brand, model, model_year,price)values(?,?,?,?,?)\",linha.product_id,linha.brand,linha.model,linha.model_year,linha.price) \n",
    "     # inserir colunas e quantas colunas tiver passar quantidade de ??\n",
    "cursor.commit()   # validar dados no SQL Server\n",
    "cursor.close()    #Fechar Cursor\n",
    "conexaoDB.close() #Fechar Conexao"
   ]
  },
  {
   "cell_type": "code",
   "execution_count": null,
   "metadata": {},
   "outputs": [],
   "source": [
    "cursor.execute('delete  from [tbProducts]')   #executa tarefa de  apagar dados\n",
    "cursor.commit()"
   ]
  }
 ],
 "metadata": {
  "kernelspec": {
   "display_name": "Python 3",
   "language": "python",
   "name": "python3"
  },
  "language_info": {
   "codemirror_mode": {
    "name": "ipython",
    "version": 3
   },
   "file_extension": ".py",
   "mimetype": "text/x-python",
   "name": "python",
   "nbconvert_exporter": "python",
   "pygments_lexer": "ipython3",
   "version": "3.12.0"
  }
 },
 "nbformat": 4,
 "nbformat_minor": 2
}
